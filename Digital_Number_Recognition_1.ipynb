{
  "cells": [
    {
      "metadata": {},
      "cell_type": "markdown",
      "source": "# 機械学習\n\n## 機械学習(machine learning)とは、コンピュータが大量のデータを入力し、そのデータを解析し、その解析結果から有用な情報（たとえば、ルール）を抽出する技術のことです。\n## 人工知能(Artificial Intelligence)研究の分野では、人間による学習と同様の機能をコンピュータで実現することが目指されています。\n\n## コンピュータは、機械学習によって、\n\n+ データを分類すること\n+ データを予測すること\n+ ルールを抽出すること\n\n## などを行えるようになります。\n"
    },
    {
      "metadata": {},
      "cell_type": "markdown",
      "source": "# 機械学習の一例として、手書き文字認識(Handwriting Character Recognition)について学びましょう。\n\n## 手書き文字認識とは、人が手を使って書いたたくさんの文字をコンピュータに学習させ、コンピュータに文字を与えたときに、コンピュータがその文字を識別できるようにすることです。\n\n\n## コンピュータは、与えられた命令（プログラム）を解釈して、さまざまな機能を実現します。そして、コンピュータに与えるプログラムは、書き換えることができます。したがって、私たちは、コンピュータに与えるプログラムを要求に応じて書き換える事によって、コンピュータに様々な機能を実現させることができます。\n\n## コンピュータに与える命令コード（プログラム）を記述するために用いる言語がプログラミング言語です。これまでに、数え切れないほどたくさんのプログラミング言語が開発され、プログラミング言語は用途に応じて使い分けられています。\n\n## 以下、AI分野で広く使われているPythonというプログラミング言語を使って、コンピュータに手書き文字を認識させます。\n### Pythonは、コードがわかりやすく、比較的短い行数で処理を記述できるプログラミング言語です。その上、Pythonは、数値計算、グラフ描画、機械学習などのための非常に多くのライブラリが整備されているため、データ処理の分野で人気のある言語です。\n\n\n\n\n"
    },
    {
      "metadata": {},
      "cell_type": "markdown",
      "source": "## 1. 手書き数字データを読み込み、データを描画します\n"
    },
    {
      "metadata": {
        "trusted": true
      },
      "cell_type": "code",
      "source": "# 処理に必要なPythonのライブラリをインポートします\n\nfrom sklearn import datasets, svm, metrics\nfrom sklearn.model_selection import cross_val_score, train_test_split\nfrom matplotlib import pyplot as plt, cm\n%matplotlib inline\n\n\n# Pythonのライブラリに用意されている手書き数字データ（学習データ）を読み込みます\ndigits = datasets.load_digits()\nprint(digits.images.shape)\n\n# 0番目のデータを表示します\n# targetは、どの数字を表しているかについての情報です\nprint(digits.target[0])\n\n# 0番目のデータの画像データを読み込みます\n# imageは、画像データです。サイズが８×８であるグレイスケール（16階調）データです。\ndata = digits.images[0]\n\n# 読み込んだ画像データを画面に表示させます。\n\nplt.imshow(data.reshape(8, 8), cmap = cm.gray_r, interpolation = 'nearest')\nplt.show()",
      "execution_count": 1,
      "outputs": [
        {
          "output_type": "stream",
          "text": "(1797, 8, 8)\n0\n",
          "name": "stdout"
        },
        {
          "output_type": "display_data",
          "data": {
            "image/png": "[encoded data removed]",
            "text/plain": "<Figure size 432x288 with 1 Axes>"
          },
          "metadata": {
            "needs_background": "light"
          }
        }
      ]
    },
    {
      "metadata": {},
      "cell_type": "markdown",
      "source": "## 2. 学習データを訓練用データとテスト用データとに分割します"
    },
    {
      "metadata": {
        "trusted": true
      },
      "cell_type": "code",
      "source": "# 学習データを訓練用データとテスト用データに分けます。\ndata_train, data_test, label_train, label_test = train_test_split(digits.data, digits.target)\n\nprint(data_train)\nprint(data_test)",
      "execution_count": 2,
      "outputs": [
        {
          "output_type": "stream",
          "text": "[[ 0.  0. 12. ...  3.  0.  0.]\n [ 0.  1. 12. ...  0.  0.  0.]\n [ 0.  0.  4. ...  0.  0.  0.]\n ...\n [ 0.  0.  4. ...  0.  0.  0.]\n [ 0.  3. 16. ...  8.  3.  0.]\n [ 0.  0.  1. ...  7.  0.  0.]]\n[[ 0.  0.  2. ... 12.  3.  0.]\n [ 0.  0.  7. ...  7.  0.  0.]\n [ 0.  0.  1. ... 12.  8.  0.]\n ...\n [ 0.  0.  0. ... 16.  8.  0.]\n [ 0.  0.  9. ...  8.  0.  0.]\n [ 0.  0.  0. ...  0.  0.  0.]]\n",
          "name": "stdout"
        }
      ]
    },
    {
      "metadata": {},
      "cell_type": "markdown",
      "source": "## 3. SVM(Support Vector Machine)アルゴリズムを使用してモデルを構築します"
    },
    {
      "metadata": {
        "trusted": true
      },
      "cell_type": "code",
      "source": "clf = svm.SVC(gamma = 0.001)\nclf.fit(data_train, label_train)",
      "execution_count": 3,
      "outputs": [
        {
          "output_type": "execute_result",
          "execution_count": 3,
          "data": {
            "text/plain": "SVC(C=1.0, cache_size=200, class_weight=None, coef0=0.0,\n  decision_function_shape='ovr', degree=3, gamma=0.001, kernel='rbf',\n  max_iter=-1, probability=False, random_state=None, shrinking=True,\n  tol=0.001, verbose=False)"
          },
          "metadata": {}
        }
      ]
    },
    {
      "metadata": {},
      "cell_type": "markdown",
      "source": "## 4. 学習済みのモデルに基づいて、テスト用データの分類を予測します"
    },
    {
      "metadata": {
        "trusted": true
      },
      "cell_type": "code",
      "source": "predict = clf.predict(data_test)",
      "execution_count": 4,
      "outputs": []
    },
    {
      "metadata": {},
      "cell_type": "markdown",
      "source": "### 結果を表示します"
    },
    {
      "metadata": {
        "trusted": true
      },
      "cell_type": "code",
      "source": "ac_score = metrics.accuracy_score(label_test, predict)\ncl_report = metrics.classification_report(label_test, predict)\nprint('clasifier information = ', clf)\nprint('correct answer rate = ', ac_score)\nprint('report \\n', cl_report)",
      "execution_count": 5,
      "outputs": [
        {
          "output_type": "stream",
          "text": "clasifier information =  SVC(C=1.0, cache_size=200, class_weight=None, coef0=0.0,\n  decision_function_shape='ovr', degree=3, gamma=0.001, kernel='rbf',\n  max_iter=-1, probability=False, random_state=None, shrinking=True,\n  tol=0.001, verbose=False)\ncorrect answer rate =  0.9911111111111112\nreport \n               precision    recall  f1-score   support\n\n           0       1.00      1.00      1.00        48\n           1       0.95      1.00      0.98        42\n           2       1.00      1.00      1.00        43\n           3       1.00      1.00      1.00        48\n           4       1.00      1.00      1.00        56\n           5       0.98      1.00      0.99        45\n           6       1.00      1.00      1.00        44\n           7       1.00      0.97      0.99        38\n           8       1.00      0.95      0.98        42\n           9       0.98      0.98      0.98        44\n\n   micro avg       0.99      0.99      0.99       450\n   macro avg       0.99      0.99      0.99       450\nweighted avg       0.99      0.99      0.99       450\n\n",
          "name": "stdout"
        }
      ]
    },
    {
      "metadata": {},
      "cell_type": "markdown",
      "source": "## 5. テスト結果を評価します\n\n### 正解率(correct answer rate)は99.3%でした。\n### 分類器(classifier)とは、訓練用データに基づいて分類を行うプログラム(モデル）のことです。レポート(report)は、各数字への分類がどの程度正確に行われているかを表します。レポートには、精度(precision)と、実際に正解に達した割合を表す再現度(recall)と、精度と再現率の調和平均であるf1-scoreと、正解ラベルのデータ数supportとが含まれています。\n"
    },
    {
      "metadata": {
        "trusted": true
      },
      "cell_type": "code",
      "source": "import os, sys, math\nfrom sklearn import datasets, svm \nfrom sklearn.externals import joblib\n\n# モデルデータファイル名\nDIGITS_PKL = \"digit-clf.pkl\"\n\n# 予測モデルを作成する --- (*1)\ndef train_digits():\n    # 手書き数字データを読み込む\n    digits = datasets.load_digits()\n    # 訓練する\n    data_train = digits.data\n    label_train = digits.target\n    clf = svm.SVC(gamma=0.001)\n    clf.fit(data_train, label_train)\n    # 予測モデルを保存\n    joblib.dump(clf, DIGITS_PKL)\n    print(\"予測モデルを保存しました=\", DIGITS_PKL)\n    return clf\n\n# データから数字を予測する --- (*2)\ndef predict_digits(data):\n    # モデルファイルを読み込む\n    if not os.path.exists(DIGITS_PKL):\n        clf = train_digits() # モデルがなければ生成\n    clf = joblib.load(DIGITS_PKL)\n    # 予測\n    n = clf.predict([data])\n    print(\"判定結果=\", n)\n\n# 手書き数字画像を8x8グレイスケールのデータ配列に変換 --- (*3)\ndef image_to_data(imagefile):\n    import numpy as np\n    from PIL import Image\n    image = Image.open(imagefile).convert('L')\n    image = image.resize((8, 8), Image.ANTIALIAS)\n    img = np.asarray(image, dtype=float)\n    img = np.floor(16 - 16 * (img / 256)) # 行例演算 --- (*3a)\n    # 変換後の画像を表示(コメントを外すと見れます) --- (*3b)\n    import matplotlib.pyplot as plt\n    plt.imshow(img)\n    plt.gray()\n    plt.show()\n    img = img.flatten()\n    print(img)\n    return img \n\ndef main():\n    # コマンドライン引数を得る --- (*4)\n    if len(sys.argv) <= 1:\n        print(\"USAGE:\")\n        print(\"python3 predict_digit.py imagefile\")\n        return\n#    imagefile = sys.argv[1]\n    imagefile = 'test5.png'\n    data = image_to_data(imagefile)\n    predict_digits(data)\n\nif __name__ == '__main__':\n    main()\n\n",
      "execution_count": 6,
      "outputs": [
        {
          "output_type": "display_data",
          "data": {
            "image/png": "[encoded data removed]",
            "text/plain": "<Figure size 432x288 with 1 Axes>"
          },
          "metadata": {
            "needs_background": "light"
          }
        },
        {
          "output_type": "stream",
          "text": "[0. 0. 0. 0. 0. 0. 0. 0. 1. 9. 7. 7. 7. 7. 2. 0. 1. 8. 0. 1. 0. 0. 0. 0.\n 1. 6. 0. 0. 0. 0. 0. 0. 1. 9. 5. 6. 5. 1. 0. 0. 0. 4. 3. 3. 4. 8. 1. 0.\n 0. 0. 0. 0. 2. 9. 2. 0. 0. 3. 8. 8. 8. 2. 0. 0.]\n判定結果= [3]\n",
          "name": "stdout"
        }
      ]
    },
    {
      "metadata": {
        "trusted": true
      },
      "cell_type": "code",
      "source": "\ndef main():\n    # コマンドライン引数を得る --- (*4)\n    if len(sys.argv) <= 1:\n        print(\"USAGE:\")\n        print(\"python3 predict_digit.py imagefile\")\n        return\n#    imagefile = sys.argv[1]\n    imagefile = 'test9.png'\n    data = image_to_data(imagefile)\n    predict_digits(data)\n\nif __name__ == '__main__':\n    main()\n\n",
      "execution_count": 7,
      "outputs": [
        {
          "output_type": "display_data",
          "data": {
            "image/png": "[encoded data removed]",
            "text/plain": "<Figure size 432x288 with 1 Axes>"
          },
          "metadata": {
            "needs_background": "light"
          }
        },
        {
          "output_type": "stream",
          "text": "[ 0.  0.  0.  4.  5.  0.  0.  0.  0.  0.  4.  3.  2.  8.  0.  0.  0.  1.\n  5.  0.  2. 11.  0.  0.  0.  2.  5.  2.  6.  5.  0.  0.  0.  0.  3.  5.\n  1.  4.  0.  0.  0.  0.  0.  0.  0.  5.  1.  0.  0.  0.  0.  0.  0.  4.\n  1.  0.  0.  0.  0.  0.  0.  4.  1.  0.]\n判定結果= [9]\n",
          "name": "stdout"
        }
      ]
    },
    {
      "metadata": {
        "trusted": true
      },
      "cell_type": "code",
      "source": "def main():\n    # コマンドライン引数を得る --- (*4)\n    if len(sys.argv) <= 1:\n        print(\"USAGE:\")\n        print(\"python3 predict_digit.py imagefile\")\n        return\n#    imagefile = sys.argv[1]\n#    imagefile = 'test2.png'\n    print(\"手書き数字ファイル名を入力してください\")\n    imagefile = input()\n    data = image_to_data(imagefile)\n    predict_digits(data)\n\nif __name__ == '__main__':\n    main()\n",
      "execution_count": 8,
      "outputs": [
        {
          "output_type": "stream",
          "text": "手書き数字ファイル名を入力してください\ntest2.png\n",
          "name": "stdout"
        },
        {
          "output_type": "display_data",
          "data": {
            "image/png": "[encoded data removed]",
            "text/plain": "<Figure size 432x288 with 1 Axes>"
          },
          "metadata": {
            "needs_background": "light"
          }
        },
        {
          "output_type": "stream",
          "text": "[ 0.  0.  0.  0.  0.  0.  0.  0.  0.  6. 10. 12. 14.  4.  0.  0.  0. 10.\n 15.  5.  9. 15.  2.  0.  0.  0.  0.  0.  6. 16.  5.  0.  0.  0.  7. 14.\n 13.  7.  0.  0.  0. 12. 16. 11.  2.  4.  3.  0.  0.  8. 10. 13. 13. 14.\n  6.  0.  0.  0.  0.  0.  1.  0.  0.  0.]\n判定結果= [2]\n",
          "name": "stdout"
        }
      ]
    },
    {
      "metadata": {},
      "cell_type": "markdown",
      "source": "## 問題１\n\n### 上のプログラムでは、「手書きファイル名」（たとえば、test5.png) を入力するように要求されました。\n### ファイルの名前がいつでも test?.png という形であり、?の部分に0～9の数字が入るとき、\n### ユーザの入力が番号0～9だけで済むように、下のプログラムを書き換えてください。"
    },
    {
      "metadata": {
        "trusted": true
      },
      "cell_type": "code",
      "source": "def main():\n    # コマンドライン引数を得る --- (*4)\n    if len(sys.argv) <= 1:\n        print(\"USAGE:\")\n        print(\"python3 predict_digit.py imagefile\")\n        return\n#    imagefile = sys.argv[1]\n#    imagefile = 'test2.png'\n    print(\"手書き数字ファイル名を入力してください\")\n    imagefile = input()\n    data = image_to_data(imagefile)\n    predict_digits(data)\n\nif __name__ == '__main__':\n    main()\n",
      "execution_count": null,
      "outputs": []
    },
    {
      "metadata": {
        "trusted": true
      },
      "cell_type": "code",
      "source": "",
      "execution_count": null,
      "outputs": []
    },
    {
      "metadata": {},
      "cell_type": "markdown",
      "source": "## 問題２\n"
    },
    {
      "metadata": {},
      "cell_type": "markdown",
      "source": "## ペイントを使って手書き数字を作成し、学習済みのモデルで分類してください"
    },
    {
      "metadata": {
        "trusted": true
      },
      "cell_type": "code",
      "source": "",
      "execution_count": null,
      "outputs": []
    },
    {
      "metadata": {
        "trusted": true
      },
      "cell_type": "code",
      "source": "",
      "execution_count": null,
      "outputs": []
    }
  ],
  "metadata": {
    "kernelspec": {
      "name": "python36",
      "display_name": "Python 3.6",
      "language": "python"
    },
    "language_info": {
      "mimetype": "text/x-python",
      "nbconvert_exporter": "python",
      "name": "python",
      "pygments_lexer": "ipython3",
      "version": "3.6.6",
      "file_extension": ".py",
      "codemirror_mode": {
        "version": 3,
        "name": "ipython"
      }
    }
  },
  "nbformat": 4,
  "nbformat_minor": 2
}